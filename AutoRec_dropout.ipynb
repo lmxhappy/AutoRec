{
  "cells": [
    {
      "cell_type": "code",
      "execution_count": 216,
      "id": "0jM2Mq4akyFG",
      "metadata": {
        "colab": {
          "base_uri": "https://localhost:8080/"
        },
        "id": "0jM2Mq4akyFG",
        "outputId": "e0c977c4-8bab-4c3f-b02e-58d74c3249ba"
      },
      "outputs": [
        {
          "name": "stdout",
          "output_type": "stream",
          "text": [
            "Looking in indexes: https://pypi.org/simple, https://us-python.pkg.dev/colab-wheels/public/simple/\n",
            "Requirement already satisfied: torchdata in /usr/local/lib/python3.7/dist-packages (0.4.1)\n",
            "Requirement already satisfied: portalocker>=2.0.0 in /usr/local/lib/python3.7/dist-packages (from torchdata) (2.5.1)\n",
            "Requirement already satisfied: torch==1.12.1 in /usr/local/lib/python3.7/dist-packages (from torchdata) (1.12.1)\n",
            "Requirement already satisfied: requests in /usr/local/lib/python3.7/dist-packages (from torchdata) (2.23.0)\n",
            "Requirement already satisfied: urllib3>=1.25 in /usr/local/lib/python3.7/dist-packages (from torchdata) (1.25.11)\n",
            "Requirement already satisfied: typing-extensions in /usr/local/lib/python3.7/dist-packages (from torch==1.12.1->torchdata) (4.1.1)\n",
            "Requirement already satisfied: certifi>=2017.4.17 in /usr/local/lib/python3.7/dist-packages (from requests->torchdata) (2022.6.15)\n",
            "Requirement already satisfied: idna<3,>=2.5 in /usr/local/lib/python3.7/dist-packages (from requests->torchdata) (2.10)\n",
            "Requirement already satisfied: chardet<4,>=3.0.2 in /usr/local/lib/python3.7/dist-packages (from requests->torchdata) (3.0.4)\n"
          ]
        }
      ],
      "source": [
        "!pip install torchdata"
      ]
    },
    {
      "cell_type": "code",
      "execution_count": 217,
      "id": "3GbcZ0PAkoc6",
      "metadata": {
        "colab": {
          "base_uri": "https://localhost:8080/"
        },
        "id": "3GbcZ0PAkoc6",
        "outputId": "1c2ae55e-e9c0-4f2a-8ac2-1558080012d9"
      },
      "outputs": [
        {
          "name": "stdout",
          "output_type": "stream",
          "text": [
            "--2022-08-07 12:36:23--  https://files.grouplens.org/datasets/movielens/ml-1m.zip\n",
            "Resolving files.grouplens.org (files.grouplens.org)... 128.101.65.152\n",
            "Connecting to files.grouplens.org (files.grouplens.org)|128.101.65.152|:443... connected.\n",
            "HTTP request sent, awaiting response... 200 OK\n",
            "Length: 5917549 (5.6M) [application/zip]\n",
            "Saving to: ‘ml-1m.zip.1’\n",
            "\n",
            "ml-1m.zip.1         100%[===================>]   5.64M  13.5MB/s    in 0.4s    \n",
            "\n",
            "2022-08-07 12:36:24 (13.5 MB/s) - ‘ml-1m.zip.1’ saved [5917549/5917549]\n",
            "\n",
            "Archive:  ml-1m.zip\n",
            "replace ml-1m/movies.dat? [y]es, [n]o, [A]ll, [N]one, [r]ename: N\n"
          ]
        }
      ],
      "source": [
        "!wget https://files.grouplens.org/datasets/movielens/ml-1m.zip\n",
        "!unzip ml-1m.zip"
      ]
    },
    {
      "cell_type": "code",
      "execution_count": 218,
      "id": "3ca85530-54da-4a45-bf76-18549c7bc18b",
      "metadata": {
        "id": "3ca85530-54da-4a45-bf76-18549c7bc18b"
      },
      "outputs": [],
      "source": [
        "import torch\n",
        "from torch import nn, div, square, norm\n",
        "from torch.nn import functional as F\n",
        "from torchdata import datapipes as dp\n",
        "import pandas as pd\n",
        "from sklearn.model_selection import train_test_split\n",
        "from sklearn.metrics import mean_squared_error\n",
        "from torch.utils.data import DataLoader\n",
        "import matplotlib.pyplot as plt\n",
        "import time"
      ]
    },
    {
      "cell_type": "code",
      "execution_count": 219,
      "id": "fa37b148-81c0-4c5f-8f91-5c826a2e1132",
      "metadata": {
        "id": "fa37b148-81c0-4c5f-8f91-5c826a2e1132"
      },
      "outputs": [],
      "source": [
        "datapath = 'ml-1m/'\n",
        "seed = 12\n",
        "device = 'cuda' if torch.cuda.is_available() else 'cpu'"
      ]
    },
    {
      "cell_type": "code",
      "execution_count": 220,
      "id": "432aa6bd-69e6-49bc-be63-e2b2f131cc2f",
      "metadata": {
        "id": "432aa6bd-69e6-49bc-be63-e2b2f131cc2f"
      },
      "outputs": [],
      "source": [
        "num_users = pd.read_csv(datapath + 'users.dat',\n",
        "            delimiter='::',\n",
        "            engine='python',\n",
        "            encoding='latin-1',\n",
        "            header=None)[0].max()\n",
        "num_items = pd.read_csv(datapath + 'movies.dat',\n",
        "            delimiter='::',\n",
        "            engine='python',\n",
        "            encoding='latin-1',\n",
        "            header=None)[0].max()"
      ]
    },
    {
      "cell_type": "code",
      "execution_count": 221,
      "id": "adc1f682-19c6-4958-8c24-c320138b3c38",
      "metadata": {
        "colab": {
          "base_uri": "https://localhost:8080/"
        },
        "id": "adc1f682-19c6-4958-8c24-c320138b3c38",
        "outputId": "1cb056d6-2047-4b0c-b3f3-547990648306"
      },
      "outputs": [
        {
          "data": {
            "text/plain": [
              "(6040, 3952)"
            ]
          },
          "execution_count": 221,
          "metadata": {},
          "output_type": "execute_result"
        }
      ],
      "source": [
        "num_users, num_items"
      ]
    },
    {
      "cell_type": "code",
      "execution_count": 222,
      "id": "841c738c-bc2f-4203-9c3a-e21b4aaa271c",
      "metadata": {
        "colab": {
          "base_uri": "https://localhost:8080/"
        },
        "id": "841c738c-bc2f-4203-9c3a-e21b4aaa271c",
        "outputId": "5242a117-e568-42a0-bfa1-3afa56a553f6"
      },
      "outputs": [
        {
          "data": {
            "text/plain": [
              "(torch.Size([3161]), torch.Size([791]))"
            ]
          },
          "execution_count": 222,
          "metadata": {},
          "output_type": "execute_result"
        }
      ],
      "source": [
        "train_items, test_items = train_test_split(torch.arange(num_items),\n",
        "                                           test_size=0.2,\n",
        "                                           random_state=seed)\n",
        "train_items.size(), test_items.size()"
      ]
    },
    {
      "cell_type": "code",
      "execution_count": 223,
      "id": "5eb081cd-a018-4171-8dee-27f91be9ae0e",
      "metadata": {
        "id": "5eb081cd-a018-4171-8dee-27f91be9ae0e"
      },
      "outputs": [],
      "source": [
        "# create global user_item matrix and mask matrix\n",
        "user_item_mat = torch.zeros((num_users, num_items))"
      ]
    },
    {
      "cell_type": "code",
      "execution_count": 224,
      "id": "6cb1e617-274f-44c2-9e3b-5a9e445fed60",
      "metadata": {
        "id": "6cb1e617-274f-44c2-9e3b-5a9e445fed60"
      },
      "outputs": [],
      "source": [
        "ratings = pd.read_csv(datapath + 'ratings.dat',\n",
        "            encoding='latin-1',\n",
        "            header=None,\n",
        "            engine='python',\n",
        "            delimiter='::')"
      ]
    },
    {
      "cell_type": "code",
      "execution_count": 225,
      "id": "dbfe69d5-876f-470b-baaa-c715b0ed7f1f",
      "metadata": {
        "id": "dbfe69d5-876f-470b-baaa-c715b0ed7f1f"
      },
      "outputs": [],
      "source": [
        "def create_data_from_line(line):\n",
        "    user_id, item_id, rating, *_ = line\n",
        "    user_item_mat[user_id - 1, item_id - 1] = rating\n",
        "    return None"
      ]
    },
    {
      "cell_type": "code",
      "execution_count": 226,
      "id": "f1f1c70c-4faf-4333-9ce3-4edae844a7c1",
      "metadata": {
        "id": "f1f1c70c-4faf-4333-9ce3-4edae844a7c1"
      },
      "outputs": [],
      "source": [
        "ratings.T.apply(create_data_from_line);"
      ]
    },
    {
      "cell_type": "code",
      "execution_count": 227,
      "id": "b8908844-5f9a-415f-9b15-d1330c8abdae",
      "metadata": {
        "colab": {
          "base_uri": "https://localhost:8080/"
        },
        "id": "b8908844-5f9a-415f-9b15-d1330c8abdae",
        "outputId": "bac172ca-3c30-47c8-8425-6f8f2f44b721"
      },
      "outputs": [
        {
          "data": {
            "text/plain": [
              "tensor(0.9581)"
            ]
          },
          "execution_count": 227,
          "metadata": {},
          "output_type": "execute_result"
        }
      ],
      "source": [
        "torch.where(user_item_mat == 0, 1, 0).sum() / (num_users * num_items)"
      ]
    },
    {
      "cell_type": "code",
      "execution_count": 228,
      "id": "2d1b5e0b-614b-43a9-b536-cad62642a39a",
      "metadata": {
        "id": "2d1b5e0b-614b-43a9-b536-cad62642a39a"
      },
      "outputs": [],
      "source": [
        "def collate_fn(batch):\n",
        "    return torch.LongTensor(batch)"
      ]
    },
    {
      "cell_type": "code",
      "execution_count": 229,
      "id": "b85b6d39-3de5-42fd-a7e5-c31f0542321a",
      "metadata": {
        "id": "b85b6d39-3de5-42fd-a7e5-c31f0542321a"
      },
      "outputs": [],
      "source": [
        "def create_datapipe_from_array(array, mode='train', batch_size=32, len=1000):\n",
        "    pipes = dp.iter.IterableWrapper(array)\n",
        "    pipes = pipes.shuffle(buffer_size=len)\n",
        "    pipes = pipes.sharding_filter()\n",
        "    \n",
        "    if mode == 'train':\n",
        "        pipes = pipes.batch(batch_size, drop_last=True)\n",
        "    else:\n",
        "        pipes = pipes.batch(batch_size)\n",
        "    \n",
        "    pipes = pipes.map(collate_fn)\n",
        "    return pipes"
      ]
    },
    {
      "cell_type": "code",
      "execution_count": 230,
      "id": "f4466bc0-38bb-49ae-b5b9-8599aa3b93af",
      "metadata": {
        "id": "f4466bc0-38bb-49ae-b5b9-8599aa3b93af"
      },
      "outputs": [],
      "source": [
        "batch_size = 512\n",
        "\n",
        "train_dp = create_datapipe_from_array(train_items, batch_size=batch_size)\n",
        "test_dp = create_datapipe_from_array(test_items, mode='test', batch_size=batch_size)"
      ]
    },
    {
      "cell_type": "code",
      "execution_count": 231,
      "id": "3c39eebc-f565-401e-b28f-eed5b07a2877",
      "metadata": {
        "id": "3c39eebc-f565-401e-b28f-eed5b07a2877"
      },
      "outputs": [],
      "source": [
        "num_workers = 2\n",
        "\n",
        "train_dl = DataLoader(dataset=train_dp, shuffle=True, num_workers=num_workers)\n",
        "test_dl = DataLoader(dataset=test_dp, shuffle=False, num_workers=num_workers)"
      ]
    },
    {
      "cell_type": "code",
      "execution_count": 232,
      "id": "680914e1-62ca-4ca5-b7c8-55c3f2fbf5fa",
      "metadata": {
        "id": "680914e1-62ca-4ca5-b7c8-55c3f2fbf5fa"
      },
      "outputs": [],
      "source": [
        "class AutoRec(nn.Module):\n",
        "    def __init__(self, d, k, dropout):\n",
        "        super().__init__()\n",
        "        self.seq = nn.Sequential(\n",
        "            nn.Linear(d, k),\n",
        "            nn.Sigmoid(),\n",
        "            nn.Dropout(dropout),\n",
        "            nn.Linear(k, d)\n",
        "        )\n",
        "    \n",
        "    def forward(self, r):\n",
        "        return self.seq(r)"
      ]
    },
    {
      "cell_type": "code",
      "execution_count": 233,
      "id": "44c533de-1f35-435d-abf4-92d8b2b66fea",
      "metadata": {
        "id": "44c533de-1f35-435d-abf4-92d8b2b66fea"
      },
      "outputs": [],
      "source": [
        "def train_epoch(model, dl, opt, criterion):\n",
        "    list_loss = []\n",
        "    start_time = time.perf_counter()\n",
        "    for batch_idx, items_idx in enumerate(dl):\n",
        "        r = user_item_mat[:, items_idx].squeeze().permute(1, 0).to(device)\n",
        "        r_hat = model(r)\n",
        "        loss = criterion(r, r_hat * torch.sign(r))\n",
        "        \n",
        "        list_loss.append(loss.item())\n",
        "        if batch_idx % 50 == 0:\n",
        "            log_time = round(time.perf_counter() - start_time, 4)\n",
        "            print(\"Loss {:.2f} | {:.4f}s\".format(loss.item(), log_time))\n",
        "        \n",
        "        opt.zero_grad()\n",
        "        loss.backward()\n",
        "        opt.step()\n",
        "\n",
        "    return list_loss"
      ]
    },
    {
      "cell_type": "code",
      "execution_count": 234,
      "id": "9cab2f4a-52d2-4681-a6c8-6d7699084c41",
      "metadata": {
        "id": "9cab2f4a-52d2-4681-a6c8-6d7699084c41"
      },
      "outputs": [],
      "source": [
        "def eval_epoch(model, dl, criterion):\n",
        "    model.eval()\n",
        "    truth = []\n",
        "    predict = []\n",
        "    size = 0\n",
        "    list_loss = []\n",
        "    start_time = time.perf_counter()\n",
        "    with torch.no_grad():\n",
        "        for batch_idx, items_idx in enumerate(dl):\n",
        "            r = user_item_mat[:, items_idx].squeeze().permute(1, 0).to(device)\n",
        "\n",
        "            r_hat = model(r)\n",
        "\n",
        "            truth.append(r)\n",
        "            predict.append(r_hat * torch.sign(r))\n",
        "\n",
        "            loss = criterion(r, r_hat * torch.sign(r))\n",
        "\n",
        "            list_loss.append(loss.item())\n",
        "            if batch_idx % 30 == 0:\n",
        "                log_time = round(time.perf_counter() - start_time, 4)\n",
        "                print(\"Loss {:.2f} | {:.4f}s\".format(loss.item(), log_time))\n",
        "\n",
        "    rmse = torch.Tensor([torch.sqrt(square(r - r_hat).sum() / torch.sign(r).sum())\n",
        "                            for r, r_hat in zip(truth, predict)]).mean().item()\n",
        "\n",
        "    return list_loss, rmse"
      ]
    },
    {
      "cell_type": "code",
      "execution_count": 235,
      "id": "d42ef645-20e3-4419-aadb-68125fc6acf4",
      "metadata": {
        "id": "d42ef645-20e3-4419-aadb-68125fc6acf4"
      },
      "outputs": [],
      "source": [
        "model = AutoRec(d=num_users, k=500, dropout=0.1).to(device)\n",
        "opt = torch.optim.Adam(model.parameters(), lr=0.0001, weight_decay=1e-5)\n",
        "criterion = nn.MSELoss()"
      ]
    },
    {
      "cell_type": "code",
      "execution_count": 236,
      "id": "c1-EWBorMNCz",
      "metadata": {
        "id": "c1-EWBorMNCz"
      },
      "outputs": [],
      "source": [
        "max_epochs = 50\n",
        "losses = []\n",
        "val_losses = []"
      ]
    },
    {
      "cell_type": "code",
      "execution_count": 237,
      "id": "3802be9b-add0-463c-afac-e9657fd43076",
      "metadata": {
        "colab": {
          "base_uri": "https://localhost:8080/"
        },
        "id": "3802be9b-add0-463c-afac-e9657fd43076",
        "outputId": "12757dd9-6278-4414-a055-847d92a913cd"
      },
      "outputs": [
        {
          "name": "stdout",
          "output_type": "stream",
          "text": [
            "==========Epoch: 0==========\n",
            "Loss 0.59 | 0.2356s\n",
            "Loss 0.54 | 0.1589s\n",
            "==========Epoch: 1==========\n",
            "Loss 0.55 | 0.2135s\n",
            "Loss 0.48 | 0.1595s\n",
            "==========Epoch: 2==========\n",
            "Loss 0.51 | 0.2272s\n",
            "Loss 0.41 | 0.1534s\n",
            "==========Epoch: 3==========\n",
            "Loss 0.44 | 0.2134s\n",
            "Loss 0.35 | 0.1566s\n",
            "==========Epoch: 4==========\n",
            "Loss 0.35 | 0.2143s\n",
            "Loss 0.29 | 0.1566s\n",
            "==========Epoch: 5==========\n",
            "Loss 0.25 | 0.2056s\n",
            "Loss 0.23 | 0.1564s\n",
            "==========Epoch: 6==========\n",
            "Loss 0.27 | 0.2140s\n",
            "Loss 0.19 | 0.1540s\n",
            "==========Epoch: 7==========\n",
            "Loss 0.18 | 0.2067s\n",
            "Loss 0.15 | 0.2144s\n",
            "==========Epoch: 8==========\n",
            "Loss 0.15 | 0.3967s\n",
            "Loss 0.12 | 0.2766s\n",
            "==========Epoch: 9==========\n",
            "Loss 0.12 | 0.3534s\n",
            "Loss 0.10 | 0.1552s\n",
            "==========Epoch: 10==========\n",
            "Loss 0.10 | 0.2123s\n",
            "Loss 0.08 | 0.1589s\n",
            "==========Epoch: 11==========\n",
            "Loss 0.08 | 0.2106s\n",
            "Loss 0.07 | 0.1638s\n",
            "==========Epoch: 12==========\n",
            "Loss 0.08 | 0.2132s\n",
            "Loss 0.06 | 0.1657s\n",
            "==========Epoch: 13==========\n",
            "Loss 0.06 | 0.2158s\n",
            "Loss 0.06 | 0.1507s\n",
            "==========Epoch: 14==========\n",
            "Loss 0.05 | 0.2110s\n",
            "Loss 0.05 | 0.1556s\n",
            "==========Epoch: 15==========\n",
            "Loss 0.05 | 0.2142s\n",
            "Loss 0.05 | 0.1623s\n",
            "==========Epoch: 16==========\n",
            "Loss 0.05 | 0.2088s\n",
            "Loss 0.05 | 0.1664s\n",
            "==========Epoch: 17==========\n",
            "Loss 0.05 | 0.2149s\n",
            "Loss 0.05 | 0.1558s\n",
            "==========Epoch: 18==========\n",
            "Loss 0.05 | 0.2180s\n",
            "Loss 0.05 | 0.1588s\n",
            "==========Epoch: 19==========\n",
            "Loss 0.04 | 0.2132s\n",
            "Loss 0.05 | 0.1562s\n",
            "==========Epoch: 20==========\n",
            "Loss 0.04 | 0.2109s\n",
            "Loss 0.05 | 0.1572s\n",
            "==========Epoch: 21==========\n",
            "Loss 0.04 | 0.2052s\n",
            "Loss 0.05 | 0.1647s\n",
            "==========Epoch: 22==========\n",
            "Loss 0.04 | 0.2116s\n",
            "Loss 0.05 | 0.1672s\n",
            "==========Epoch: 23==========\n",
            "Loss 0.04 | 0.2102s\n",
            "Loss 0.05 | 0.1585s\n",
            "==========Epoch: 24==========\n",
            "Loss 0.04 | 0.2227s\n",
            "Loss 0.05 | 0.1555s\n",
            "==========Epoch: 25==========\n",
            "Loss 0.04 | 0.2103s\n",
            "Loss 0.04 | 0.1607s\n",
            "==========Epoch: 26==========\n",
            "Loss 0.04 | 0.2120s\n",
            "Loss 0.04 | 0.1560s\n",
            "==========Epoch: 27==========\n",
            "Loss 0.04 | 0.2220s\n",
            "Loss 0.04 | 0.1611s\n",
            "==========Epoch: 28==========\n",
            "Loss 0.04 | 0.2151s\n",
            "Loss 0.04 | 0.1600s\n",
            "==========Epoch: 29==========\n",
            "Loss 0.04 | 0.2246s\n",
            "Loss 0.04 | 0.1505s\n",
            "==========Epoch: 30==========\n",
            "Loss 0.04 | 0.2134s\n",
            "Loss 0.04 | 0.1527s\n",
            "==========Epoch: 31==========\n",
            "Loss 0.04 | 0.2095s\n",
            "Loss 0.04 | 0.1571s\n",
            "==========Epoch: 32==========\n",
            "Loss 0.05 | 0.2015s\n",
            "Loss 0.04 | 0.1604s\n",
            "==========Epoch: 33==========\n",
            "Loss 0.04 | 0.2108s\n",
            "Loss 0.04 | 0.1564s\n",
            "==========Epoch: 34==========\n",
            "Loss 0.04 | 0.2155s\n",
            "Loss 0.04 | 0.1535s\n",
            "==========Epoch: 35==========\n",
            "Loss 0.04 | 0.2269s\n",
            "Loss 0.04 | 0.1588s\n",
            "==========Epoch: 36==========\n",
            "Loss 0.04 | 0.2102s\n",
            "Loss 0.04 | 0.1551s\n",
            "==========Epoch: 37==========\n",
            "Loss 0.04 | 0.2062s\n",
            "Loss 0.04 | 0.1723s\n",
            "==========Epoch: 38==========\n",
            "Loss 0.04 | 0.2320s\n",
            "Loss 0.04 | 0.1680s\n",
            "==========Epoch: 39==========\n",
            "Loss 0.04 | 0.2201s\n",
            "Loss 0.04 | 0.1601s\n",
            "==========Epoch: 40==========\n",
            "Loss 0.04 | 0.2077s\n",
            "Loss 0.04 | 0.1572s\n",
            "==========Epoch: 41==========\n",
            "Loss 0.03 | 0.2043s\n",
            "Loss 0.04 | 0.1538s\n",
            "==========Epoch: 42==========\n",
            "Loss 0.04 | 0.2153s\n",
            "Loss 0.04 | 0.1554s\n",
            "==========Epoch: 43==========\n",
            "Loss 0.04 | 0.2182s\n",
            "Loss 0.04 | 0.1594s\n",
            "==========Epoch: 44==========\n",
            "Loss 0.04 | 0.2170s\n",
            "Loss 0.04 | 0.1637s\n",
            "==========Epoch: 45==========\n",
            "Loss 0.04 | 0.2106s\n",
            "Loss 0.04 | 0.1555s\n",
            "==========Epoch: 46==========\n",
            "Loss 0.04 | 0.2189s\n",
            "Loss 0.04 | 0.1600s\n",
            "==========Epoch: 47==========\n",
            "Loss 0.04 | 0.2102s\n",
            "Loss 0.04 | 0.1633s\n",
            "==========Epoch: 48==========\n",
            "Loss 0.04 | 0.2098s\n",
            "Loss 0.04 | 0.1691s\n",
            "==========Epoch: 49==========\n",
            "Loss 0.04 | 0.2027s\n",
            "Loss 0.04 | 0.1750s\n"
          ]
        }
      ],
      "source": [
        "for epoch in range(max_epochs):\n",
        "    print(\"=\" * 10 + f\"Epoch: {epoch}\" + \"=\" * 10)\n",
        "    epoch_loss = train_epoch(model, train_dl, opt, criterion)\n",
        "    val_loss, *_ = eval_epoch(model, test_dl, criterion)\n",
        "    losses.extend(epoch_loss)\n",
        "    val_losses.extend(val_loss)"
      ]
    },
    {
      "cell_type": "code",
      "execution_count": 238,
      "id": "aWrFCe8KNORw",
      "metadata": {
        "colab": {
          "base_uri": "https://localhost:8080/",
          "height": 265
        },
        "id": "aWrFCe8KNORw",
        "outputId": "d60c51ef-8594-4b75-9849-09153e385fd1"
      },
      "outputs": [
        {
          "data": {
            "image/png": "[encoded data removed]",
            "text/plain": [
              "<Figure size 432x288 with 1 Axes>"
            ]
          },
          "metadata": {
            "needs_background": "light"
          },
          "output_type": "display_data"
        }
      ],
      "source": [
        "plt.plot(losses)\n",
        "plt.plot(val_losses)\n",
        "plt.show()"
      ]
    },
    {
      "cell_type": "code",
      "execution_count": 240,
      "id": "6e1Qg2LjxZUV",
      "metadata": {
        "colab": {
          "base_uri": "https://localhost:8080/"
        },
        "id": "6e1Qg2LjxZUV",
        "outputId": "3de6df73-0938-4409-cfc7-f55dda474524"
      },
      "outputs": [
        {
          "name": "stdout",
          "output_type": "stream",
          "text": [
            "Loss 0.04 | 0.3046s\n"
          ]
        },
        {
          "data": {
            "text/plain": [
              "0.9463635087013245"
            ]
          },
          "execution_count": 240,
          "metadata": {},
          "output_type": "execute_result"
        }
      ],
      "source": [
        "val_loss, rmse = eval_epoch(model, test_dl, criterion)\n",
        "rmse"
      ]
    }
  ],
  "metadata": {
    "accelerator": "GPU",
    "colab": {
      "collapsed_sections": [],
      "name": "AutoRec dropout.ipynb",
      "provenance": []
    },
    "gpuClass": "standard",
    "kernelspec": {
      "display_name": "Python 3.9.10 64-bit",
      "language": "python",
      "name": "python3"
    },
    "language_info": {
      "codemirror_mode": {
        "name": "ipython",
        "version": 3
      },
      "file_extension": ".py",
      "mimetype": "text/x-python",
      "name": "python",
      "nbconvert_exporter": "python",
      "pygments_lexer": "ipython3",
      "version": "3.9.10"
    },
    "vscode": {
      "interpreter": {
        "hash": "8acda9f5fdb612953975aee10444884cfb48234c8fe5ff7f806137c25a4f468b"
      }
    }
  },
  "nbformat": 4,
  "nbformat_minor": 5
}
