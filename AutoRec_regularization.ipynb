{
  "cells": [
    {
      "cell_type": "code",
      "execution_count": 1,
      "id": "0jM2Mq4akyFG",
      "metadata": {
        "colab": {
          "base_uri": "https://localhost:8080/"
        },
        "id": "0jM2Mq4akyFG",
        "outputId": "1b5e99be-a5c8-4f25-b916-7e5d07a212c9"
      },
      "outputs": [
        {
          "name": "stdout",
          "output_type": "stream",
          "text": [
            "Looking in indexes: https://pypi.org/simple, https://us-python.pkg.dev/colab-wheels/public/simple/\n",
            "Collecting torchdata\n",
            "  Downloading torchdata-0.4.1-cp37-cp37m-manylinux_2_17_x86_64.manylinux2014_x86_64.whl (4.4 MB)\n",
            "\u001b[K     |████████████████████████████████| 4.4 MB 34.0 MB/s \n",
            "\u001b[?25hCollecting portalocker>=2.0.0\n",
            "  Downloading portalocker-2.5.1-py2.py3-none-any.whl (15 kB)\n",
            "Collecting urllib3>=1.25\n",
            "  Downloading urllib3-1.26.11-py2.py3-none-any.whl (139 kB)\n",
            "\u001b[K     |████████████████████████████████| 139 kB 69.9 MB/s \n",
            "\u001b[?25hRequirement already satisfied: requests in /usr/local/lib/python3.7/dist-packages (from torchdata) (2.23.0)\n",
            "Collecting torch==1.12.1\n",
            "  Downloading torch-1.12.1-cp37-cp37m-manylinux1_x86_64.whl (776.3 MB)\n",
            "\u001b[K     |████████████████████████████████| 776.3 MB 12 kB/s \n",
            "\u001b[?25hRequirement already satisfied: typing-extensions in /usr/local/lib/python3.7/dist-packages (from torch==1.12.1->torchdata) (4.1.1)\n",
            "Requirement already satisfied: idna<3,>=2.5 in /usr/local/lib/python3.7/dist-packages (from requests->torchdata) (2.10)\n",
            "Requirement already satisfied: certifi>=2017.4.17 in /usr/local/lib/python3.7/dist-packages (from requests->torchdata) (2022.6.15)\n",
            "Collecting urllib3>=1.25\n",
            "  Downloading urllib3-1.25.11-py2.py3-none-any.whl (127 kB)\n",
            "\u001b[K     |████████████████████████████████| 127 kB 72.0 MB/s \n",
            "\u001b[?25hRequirement already satisfied: chardet<4,>=3.0.2 in /usr/local/lib/python3.7/dist-packages (from requests->torchdata) (3.0.4)\n",
            "Installing collected packages: urllib3, torch, portalocker, torchdata\n",
            "  Attempting uninstall: urllib3\n",
            "    Found existing installation: urllib3 1.24.3\n",
            "    Uninstalling urllib3-1.24.3:\n",
            "      Successfully uninstalled urllib3-1.24.3\n",
            "  Attempting uninstall: torch\n",
            "    Found existing installation: torch 1.12.0+cu113\n",
            "    Uninstalling torch-1.12.0+cu113:\n",
            "      Successfully uninstalled torch-1.12.0+cu113\n",
            "\u001b[31mERROR: pip's dependency resolver does not currently take into account all the packages that are installed. This behaviour is the source of the following dependency conflicts.\n",
            "torchvision 0.13.0+cu113 requires torch==1.12.0, but you have torch 1.12.1 which is incompatible.\n",
            "torchtext 0.13.0 requires torch==1.12.0, but you have torch 1.12.1 which is incompatible.\n",
            "torchaudio 0.12.0+cu113 requires torch==1.12.0, but you have torch 1.12.1 which is incompatible.\u001b[0m\n",
            "Successfully installed portalocker-2.5.1 torch-1.12.1 torchdata-0.4.1 urllib3-1.25.11\n"
          ]
        }
      ],
      "source": [
        "!pip install torchdata"
      ]
    },
    {
      "cell_type": "code",
      "execution_count": 2,
      "id": "3GbcZ0PAkoc6",
      "metadata": {
        "colab": {
          "base_uri": "https://localhost:8080/"
        },
        "id": "3GbcZ0PAkoc6",
        "outputId": "f9087223-1ba2-43b7-eb33-a3b8b3292368"
      },
      "outputs": [
        {
          "name": "stdout",
          "output_type": "stream",
          "text": [
            "--2022-08-07 12:43:01--  https://files.grouplens.org/datasets/movielens/ml-1m.zip\n",
            "Resolving files.grouplens.org (files.grouplens.org)... 128.101.65.152\n",
            "Connecting to files.grouplens.org (files.grouplens.org)|128.101.65.152|:443... connected.\n",
            "HTTP request sent, awaiting response... 200 OK\n",
            "Length: 5917549 (5.6M) [application/zip]\n",
            "Saving to: ‘ml-1m.zip’\n",
            "\n",
            "ml-1m.zip           100%[===================>]   5.64M  2.92MB/s    in 1.9s    \n",
            "\n",
            "2022-08-07 12:43:04 (2.92 MB/s) - ‘ml-1m.zip’ saved [5917549/5917549]\n",
            "\n",
            "Archive:  ml-1m.zip\n",
            "   creating: ml-1m/\n",
            "  inflating: ml-1m/movies.dat        \n",
            "  inflating: ml-1m/ratings.dat       \n",
            "  inflating: ml-1m/README            \n",
            "  inflating: ml-1m/users.dat         \n"
          ]
        }
      ],
      "source": [
        "!wget https://files.grouplens.org/datasets/movielens/ml-1m.zip\n",
        "!unzip ml-1m.zip"
      ]
    },
    {
      "cell_type": "code",
      "execution_count": 3,
      "id": "3ca85530-54da-4a45-bf76-18549c7bc18b",
      "metadata": {
        "id": "3ca85530-54da-4a45-bf76-18549c7bc18b"
      },
      "outputs": [],
      "source": [
        "import torch\n",
        "from torch import nn, div, square, norm\n",
        "from torch.nn import functional as F\n",
        "from torchdata import datapipes as dp\n",
        "import pandas as pd\n",
        "from sklearn.model_selection import train_test_split\n",
        "from sklearn.metrics import mean_squared_error\n",
        "from torch.utils.data import DataLoader\n",
        "import matplotlib.pyplot as plt\n",
        "import time"
      ]
    },
    {
      "cell_type": "code",
      "execution_count": 4,
      "id": "fa37b148-81c0-4c5f-8f91-5c826a2e1132",
      "metadata": {
        "id": "fa37b148-81c0-4c5f-8f91-5c826a2e1132"
      },
      "outputs": [],
      "source": [
        "datapath = 'ml-1m/'\n",
        "seed = 12\n",
        "device = 'cuda' if torch.cuda.is_available() else 'cpu'"
      ]
    },
    {
      "cell_type": "code",
      "execution_count": 5,
      "id": "432aa6bd-69e6-49bc-be63-e2b2f131cc2f",
      "metadata": {
        "id": "432aa6bd-69e6-49bc-be63-e2b2f131cc2f"
      },
      "outputs": [],
      "source": [
        "num_users = pd.read_csv(datapath + 'users.dat',\n",
        "            delimiter='::',\n",
        "            engine='python',\n",
        "            encoding='latin-1',\n",
        "            header=None)[0].max()\n",
        "num_items = pd.read_csv(datapath + 'movies.dat',\n",
        "            delimiter='::',\n",
        "            engine='python',\n",
        "            encoding='latin-1',\n",
        "            header=None)[0].max()"
      ]
    },
    {
      "cell_type": "code",
      "execution_count": 6,
      "id": "adc1f682-19c6-4958-8c24-c320138b3c38",
      "metadata": {
        "colab": {
          "base_uri": "https://localhost:8080/"
        },
        "id": "adc1f682-19c6-4958-8c24-c320138b3c38",
        "outputId": "7bed8bd0-567c-4896-a1f3-017942cbde55"
      },
      "outputs": [
        {
          "data": {
            "text/plain": [
              "(6040, 3952)"
            ]
          },
          "execution_count": 6,
          "metadata": {},
          "output_type": "execute_result"
        }
      ],
      "source": [
        "num_users, num_items"
      ]
    },
    {
      "cell_type": "code",
      "execution_count": 7,
      "id": "841c738c-bc2f-4203-9c3a-e21b4aaa271c",
      "metadata": {
        "colab": {
          "base_uri": "https://localhost:8080/"
        },
        "id": "841c738c-bc2f-4203-9c3a-e21b4aaa271c",
        "outputId": "a505d489-cd5b-4edb-af1f-84254c35c1b1"
      },
      "outputs": [
        {
          "data": {
            "text/plain": [
              "(torch.Size([3161]), torch.Size([791]))"
            ]
          },
          "execution_count": 7,
          "metadata": {},
          "output_type": "execute_result"
        }
      ],
      "source": [
        "train_items, test_items = train_test_split(torch.arange(num_items),\n",
        "                                           test_size=0.2,\n",
        "                                           random_state=seed)\n",
        "train_items.size(), test_items.size()"
      ]
    },
    {
      "cell_type": "code",
      "execution_count": 8,
      "id": "5eb081cd-a018-4171-8dee-27f91be9ae0e",
      "metadata": {
        "id": "5eb081cd-a018-4171-8dee-27f91be9ae0e"
      },
      "outputs": [],
      "source": [
        "# create global user_item matrix and mask matrix\n",
        "user_item_mat = torch.zeros((num_users, num_items))"
      ]
    },
    {
      "cell_type": "code",
      "execution_count": 9,
      "id": "6cb1e617-274f-44c2-9e3b-5a9e445fed60",
      "metadata": {
        "id": "6cb1e617-274f-44c2-9e3b-5a9e445fed60"
      },
      "outputs": [],
      "source": [
        "ratings = pd.read_csv(datapath + 'ratings.dat',\n",
        "            encoding='latin-1',\n",
        "            header=None,\n",
        "            engine='python',\n",
        "            delimiter='::')"
      ]
    },
    {
      "cell_type": "code",
      "execution_count": 10,
      "id": "dbfe69d5-876f-470b-baaa-c715b0ed7f1f",
      "metadata": {
        "id": "dbfe69d5-876f-470b-baaa-c715b0ed7f1f"
      },
      "outputs": [],
      "source": [
        "def create_data_from_line(line):\n",
        "    user_id, item_id, rating, *_ = line\n",
        "    user_item_mat[user_id - 1, item_id - 1] = rating\n",
        "    return None"
      ]
    },
    {
      "cell_type": "code",
      "execution_count": 11,
      "id": "f1f1c70c-4faf-4333-9ce3-4edae844a7c1",
      "metadata": {
        "id": "f1f1c70c-4faf-4333-9ce3-4edae844a7c1"
      },
      "outputs": [],
      "source": [
        "ratings.T.apply(create_data_from_line);"
      ]
    },
    {
      "cell_type": "code",
      "execution_count": 12,
      "id": "b8908844-5f9a-415f-9b15-d1330c8abdae",
      "metadata": {
        "colab": {
          "base_uri": "https://localhost:8080/"
        },
        "id": "b8908844-5f9a-415f-9b15-d1330c8abdae",
        "outputId": "7ae5cf2a-05c8-4b28-9f64-906d29fb486c"
      },
      "outputs": [
        {
          "data": {
            "text/plain": [
              "tensor(0.9581)"
            ]
          },
          "execution_count": 12,
          "metadata": {},
          "output_type": "execute_result"
        }
      ],
      "source": [
        "torch.where(user_item_mat == 0, 1, 0).sum() / (num_users * num_items)"
      ]
    },
    {
      "cell_type": "code",
      "execution_count": 13,
      "id": "2d1b5e0b-614b-43a9-b536-cad62642a39a",
      "metadata": {
        "id": "2d1b5e0b-614b-43a9-b536-cad62642a39a"
      },
      "outputs": [],
      "source": [
        "def collate_fn(batch):\n",
        "    return torch.LongTensor(batch)"
      ]
    },
    {
      "cell_type": "code",
      "execution_count": 14,
      "id": "b85b6d39-3de5-42fd-a7e5-c31f0542321a",
      "metadata": {
        "id": "b85b6d39-3de5-42fd-a7e5-c31f0542321a"
      },
      "outputs": [],
      "source": [
        "def create_datapipe_from_array(array, mode='train', batch_size=32, len=1000):\n",
        "    pipes = dp.iter.IterableWrapper(array)\n",
        "    pipes = pipes.shuffle(buffer_size=len)\n",
        "    pipes = pipes.sharding_filter()\n",
        "    \n",
        "    if mode == 'train':\n",
        "        pipes = pipes.batch(batch_size, drop_last=True)\n",
        "    else:\n",
        "        pipes = pipes.batch(batch_size)\n",
        "    \n",
        "    pipes = pipes.map(collate_fn)\n",
        "    return pipes"
      ]
    },
    {
      "cell_type": "code",
      "execution_count": 15,
      "id": "f4466bc0-38bb-49ae-b5b9-8599aa3b93af",
      "metadata": {
        "id": "f4466bc0-38bb-49ae-b5b9-8599aa3b93af"
      },
      "outputs": [],
      "source": [
        "batch_size = 512\n",
        "\n",
        "train_dp = create_datapipe_from_array(train_items, batch_size=batch_size)\n",
        "test_dp = create_datapipe_from_array(test_items, mode='test', batch_size=batch_size)"
      ]
    },
    {
      "cell_type": "code",
      "execution_count": 16,
      "id": "3c39eebc-f565-401e-b28f-eed5b07a2877",
      "metadata": {
        "id": "3c39eebc-f565-401e-b28f-eed5b07a2877"
      },
      "outputs": [],
      "source": [
        "num_workers = 2\n",
        "\n",
        "train_dl = DataLoader(dataset=train_dp, shuffle=True, num_workers=num_workers)\n",
        "test_dl = DataLoader(dataset=test_dp, shuffle=False, num_workers=num_workers)"
      ]
    },
    {
      "cell_type": "code",
      "execution_count": 17,
      "id": "680914e1-62ca-4ca5-b7c8-55c3f2fbf5fa",
      "metadata": {
        "id": "680914e1-62ca-4ca5-b7c8-55c3f2fbf5fa"
      },
      "outputs": [],
      "source": [
        "class AutoRec(nn.Module):\n",
        "    def __init__(self, d, k, lambda_):\n",
        "        super().__init__()\n",
        "        self.lambda_ = lambda_\n",
        "        self.W = nn.Parameter(torch.randn(d, k))\n",
        "        self.V = nn.Parameter(torch.randn(k, d))\n",
        "        self.mu = nn.Parameter(torch.randn(k))\n",
        "        self.b = nn.Parameter(torch.randn(d))\n",
        "    \n",
        "    def regularization(self):\n",
        "        return div(self.lambda_, 2) * (square(norm(self.W)) + square(norm(self.V)))\n",
        "    \n",
        "    def forward(self, r):\n",
        "        encoder = self.V.matmul(r.T).T + self.mu\n",
        "        return self.W.matmul(encoder.sigmoid().T).T + self.b"
      ]
    },
    {
      "cell_type": "code",
      "execution_count": 18,
      "id": "644d28f2-dc09-40f1-b0c9-ffb7df93c0fc",
      "metadata": {
        "id": "644d28f2-dc09-40f1-b0c9-ffb7df93c0fc"
      },
      "outputs": [],
      "source": [
        "def autorec_loss(r, r_hat):\n",
        "    return F.mse_loss(r, r_hat)"
      ]
    },
    {
      "cell_type": "code",
      "execution_count": 19,
      "id": "44c533de-1f35-435d-abf4-92d8b2b66fea",
      "metadata": {
        "id": "44c533de-1f35-435d-abf4-92d8b2b66fea"
      },
      "outputs": [],
      "source": [
        "def train_epoch(model, dl, opt, criterion):\n",
        "    list_loss = []\n",
        "    start_time = time.perf_counter()\n",
        "    for batch_idx, items_idx in enumerate(dl):\n",
        "        r = user_item_mat[:, items_idx].squeeze().permute(1, 0).to(device)\n",
        "        r_hat = model(r)\n",
        "        loss = criterion(r, r_hat * torch.sign(r))\n",
        "        \n",
        "        list_loss.append(loss.item())\n",
        "        if batch_idx % 50 == 0:\n",
        "            log_time = round(time.perf_counter() - start_time, 4)\n",
        "            print(\"Loss {:.2f} | {:.4f}s\".format(loss.item(), log_time))\n",
        "        \n",
        "        opt.zero_grad()\n",
        "        loss.backward()\n",
        "        opt.step()\n",
        "\n",
        "    return list_loss"
      ]
    },
    {
      "cell_type": "code",
      "execution_count": 20,
      "id": "9cab2f4a-52d2-4681-a6c8-6d7699084c41",
      "metadata": {
        "id": "9cab2f4a-52d2-4681-a6c8-6d7699084c41"
      },
      "outputs": [],
      "source": [
        "def eval_epoch(model, dl, criterion):\n",
        "    model.eval()\n",
        "    truth = []\n",
        "    predict = []\n",
        "    size = 0\n",
        "    list_loss = []\n",
        "    start_time = time.perf_counter()\n",
        "    with torch.no_grad():\n",
        "        for batch_idx, items_idx in enumerate(dl):\n",
        "            r = user_item_mat[:, items_idx].squeeze().permute(1, 0).to(device)\n",
        "\n",
        "            r_hat = model(r)\n",
        "\n",
        "            truth.append(r)\n",
        "            predict.append(r_hat * torch.sign(r))\n",
        "\n",
        "            loss = criterion(r, r_hat * torch.sign(r))\n",
        "\n",
        "            list_loss.append(loss.item())\n",
        "            if batch_idx % 30 == 0:\n",
        "                log_time = round(time.perf_counter() - start_time, 4)\n",
        "                print(\"Loss {:.2f} | {:.4f}s\".format(loss.item(), log_time))\n",
        "\n",
        "    rmse = torch.Tensor([torch.sqrt(square(r - r_hat).sum() / torch.sign(r).sum())\n",
        "                            for r, r_hat in zip(truth, predict)]).mean().item()\n",
        "\n",
        "    return list_loss, rmse"
      ]
    },
    {
      "cell_type": "code",
      "execution_count": 59,
      "id": "d42ef645-20e3-4419-aadb-68125fc6acf4",
      "metadata": {
        "id": "d42ef645-20e3-4419-aadb-68125fc6acf4"
      },
      "outputs": [],
      "source": [
        "model = AutoRec(d=num_users, k=500, lambda_=1).to(device)\n",
        "opt = torch.optim.Adam(model.parameters(), lr=0.01, weight_decay=1e-5)\n",
        "criterion = nn.MSELoss().to(device)"
      ]
    },
    {
      "cell_type": "code",
      "execution_count": 60,
      "id": "c1-EWBorMNCz",
      "metadata": {
        "id": "c1-EWBorMNCz"
      },
      "outputs": [],
      "source": [
        "max_epochs = 100\n",
        "losses = []\n",
        "val_losses = []"
      ]
    },
    {
      "cell_type": "code",
      "execution_count": 61,
      "id": "3802be9b-add0-463c-afac-e9657fd43076",
      "metadata": {
        "colab": {
          "base_uri": "https://localhost:8080/"
        },
        "id": "3802be9b-add0-463c-afac-e9657fd43076",
        "outputId": "37f14262-ba47-4757-ccf5-c4f7b35f68ac"
      },
      "outputs": [
        {
          "name": "stdout",
          "output_type": "stream",
          "text": [
            "==========Epoch: 0==========\n",
            "Loss 11.51 | 0.1910s\n",
            "Loss 4.07 | 0.1339s\n",
            "==========Epoch: 1==========\n",
            "Loss 3.58 | 0.2000s\n",
            "Loss 2.76 | 0.1324s\n",
            "==========Epoch: 2==========\n",
            "Loss 2.66 | 0.1889s\n",
            "Loss 1.99 | 0.1381s\n",
            "==========Epoch: 3==========\n",
            "Loss 1.88 | 0.1892s\n",
            "Loss 1.48 | 0.1348s\n",
            "==========Epoch: 4==========\n",
            "Loss 1.39 | 0.1849s\n",
            "Loss 1.11 | 0.1389s\n",
            "==========Epoch: 5==========\n",
            "Loss 1.05 | 0.1858s\n",
            "Loss 0.84 | 0.1281s\n",
            "==========Epoch: 6==========\n",
            "Loss 0.78 | 0.1991s\n",
            "Loss 0.66 | 0.1314s\n",
            "==========Epoch: 7==========\n",
            "Loss 0.58 | 0.1854s\n",
            "Loss 0.53 | 0.1359s\n",
            "==========Epoch: 8==========\n",
            "Loss 0.47 | 0.1862s\n",
            "Loss 0.44 | 0.1296s\n",
            "==========Epoch: 9==========\n",
            "Loss 0.36 | 0.1787s\n",
            "Loss 0.37 | 0.1335s\n",
            "==========Epoch: 10==========\n",
            "Loss 0.30 | 0.1867s\n",
            "Loss 0.32 | 0.1359s\n",
            "==========Epoch: 11==========\n",
            "Loss 0.26 | 0.1848s\n",
            "Loss 0.29 | 0.1338s\n",
            "==========Epoch: 12==========\n",
            "Loss 0.22 | 0.1858s\n",
            "Loss 0.26 | 0.1303s\n",
            "==========Epoch: 13==========\n",
            "Loss 0.21 | 0.1912s\n",
            "Loss 0.24 | 0.1319s\n",
            "==========Epoch: 14==========\n",
            "Loss 0.18 | 0.1823s\n",
            "Loss 0.22 | 0.1358s\n",
            "==========Epoch: 15==========\n",
            "Loss 0.16 | 0.1806s\n",
            "Loss 0.21 | 0.1387s\n",
            "==========Epoch: 16==========\n",
            "Loss 0.15 | 0.1891s\n",
            "Loss 0.20 | 0.1330s\n",
            "==========Epoch: 17==========\n",
            "Loss 0.13 | 0.1942s\n",
            "Loss 0.19 | 0.1276s\n",
            "==========Epoch: 18==========\n",
            "Loss 0.12 | 0.1951s\n",
            "Loss 0.18 | 0.1429s\n",
            "==========Epoch: 19==========\n",
            "Loss 0.11 | 0.1908s\n",
            "Loss 0.17 | 0.1346s\n",
            "==========Epoch: 20==========\n",
            "Loss 0.11 | 0.1806s\n",
            "Loss 0.16 | 0.1337s\n",
            "==========Epoch: 21==========\n",
            "Loss 0.11 | 0.1787s\n",
            "Loss 0.16 | 0.1373s\n",
            "==========Epoch: 22==========\n",
            "Loss 0.10 | 0.1807s\n",
            "Loss 0.15 | 0.1299s\n",
            "==========Epoch: 23==========\n",
            "Loss 0.09 | 0.1987s\n",
            "Loss 0.15 | 0.1390s\n",
            "==========Epoch: 24==========\n",
            "Loss 0.09 | 0.1835s\n",
            "Loss 0.14 | 0.1341s\n",
            "==========Epoch: 25==========\n",
            "Loss 0.09 | 0.1797s\n",
            "Loss 0.14 | 0.1420s\n",
            "==========Epoch: 26==========\n",
            "Loss 0.08 | 0.1928s\n",
            "Loss 0.14 | 0.1347s\n",
            "==========Epoch: 27==========\n",
            "Loss 0.08 | 0.1802s\n",
            "Loss 0.13 | 0.1428s\n",
            "==========Epoch: 28==========\n",
            "Loss 0.08 | 0.1877s\n",
            "Loss 0.13 | 0.1374s\n",
            "==========Epoch: 29==========\n",
            "Loss 0.07 | 0.2009s\n",
            "Loss 0.12 | 0.1414s\n",
            "==========Epoch: 30==========\n",
            "Loss 0.07 | 0.1844s\n",
            "Loss 0.12 | 0.1428s\n",
            "==========Epoch: 31==========\n",
            "Loss 0.07 | 0.1839s\n",
            "Loss 0.12 | 0.1375s\n",
            "==========Epoch: 32==========\n",
            "Loss 0.07 | 0.1985s\n",
            "Loss 0.11 | 0.1323s\n",
            "==========Epoch: 33==========\n",
            "Loss 0.07 | 0.1807s\n",
            "Loss 0.11 | 0.1398s\n",
            "==========Epoch: 34==========\n",
            "Loss 0.07 | 0.1870s\n",
            "Loss 0.11 | 0.1319s\n",
            "==========Epoch: 35==========\n",
            "Loss 0.06 | 0.1876s\n",
            "Loss 0.11 | 0.1330s\n",
            "==========Epoch: 36==========\n",
            "Loss 0.06 | 0.1799s\n",
            "Loss 0.10 | 0.1388s\n",
            "==========Epoch: 37==========\n",
            "Loss 0.06 | 0.1863s\n",
            "Loss 0.10 | 0.1355s\n",
            "==========Epoch: 38==========\n",
            "Loss 0.06 | 0.1861s\n",
            "Loss 0.10 | 0.1381s\n",
            "==========Epoch: 39==========\n",
            "Loss 0.06 | 0.1995s\n",
            "Loss 0.10 | 0.1416s\n",
            "==========Epoch: 40==========\n",
            "Loss 0.06 | 0.1890s\n",
            "Loss 0.09 | 0.1369s\n",
            "==========Epoch: 41==========\n",
            "Loss 0.06 | 0.1783s\n",
            "Loss 0.09 | 0.1364s\n",
            "==========Epoch: 42==========\n",
            "Loss 0.06 | 0.1794s\n",
            "Loss 0.09 | 0.1334s\n",
            "==========Epoch: 43==========\n",
            "Loss 0.05 | 0.1860s\n",
            "Loss 0.09 | 0.1332s\n",
            "==========Epoch: 44==========\n",
            "Loss 0.06 | 0.1894s\n",
            "Loss 0.09 | 0.1382s\n",
            "==========Epoch: 45==========\n",
            "Loss 0.06 | 0.1823s\n",
            "Loss 0.08 | 0.1390s\n",
            "==========Epoch: 46==========\n",
            "Loss 0.05 | 0.1862s\n",
            "Loss 0.08 | 0.1337s\n",
            "==========Epoch: 47==========\n",
            "Loss 0.05 | 0.1831s\n",
            "Loss 0.08 | 0.1439s\n",
            "==========Epoch: 48==========\n",
            "Loss 0.05 | 0.1841s\n",
            "Loss 0.08 | 0.1406s\n",
            "==========Epoch: 49==========\n",
            "Loss 0.05 | 0.1897s\n",
            "Loss 0.08 | 0.1377s\n",
            "==========Epoch: 50==========\n",
            "Loss 0.05 | 0.1834s\n",
            "Loss 0.08 | 0.1421s\n",
            "==========Epoch: 51==========\n",
            "Loss 0.05 | 0.1850s\n",
            "Loss 0.08 | 0.1378s\n",
            "==========Epoch: 52==========\n",
            "Loss 0.05 | 0.2002s\n",
            "Loss 0.07 | 0.1375s\n",
            "==========Epoch: 53==========\n",
            "Loss 0.05 | 0.1826s\n",
            "Loss 0.07 | 0.1370s\n",
            "==========Epoch: 54==========\n",
            "Loss 0.05 | 0.1821s\n",
            "Loss 0.07 | 0.1355s\n",
            "==========Epoch: 55==========\n",
            "Loss 0.05 | 0.2035s\n",
            "Loss 0.07 | 0.1309s\n",
            "==========Epoch: 56==========\n",
            "Loss 0.04 | 0.1892s\n",
            "Loss 0.07 | 0.1343s\n",
            "==========Epoch: 57==========\n",
            "Loss 0.04 | 0.1807s\n",
            "Loss 0.07 | 0.1418s\n",
            "==========Epoch: 58==========\n",
            "Loss 0.04 | 0.1888s\n",
            "Loss 0.07 | 0.1331s\n",
            "==========Epoch: 59==========\n",
            "Loss 0.04 | 0.1839s\n",
            "Loss 0.07 | 0.1438s\n",
            "==========Epoch: 60==========\n",
            "Loss 0.05 | 0.1811s\n",
            "Loss 0.07 | 0.1390s\n",
            "==========Epoch: 61==========\n",
            "Loss 0.05 | 0.1889s\n",
            "Loss 0.07 | 0.1354s\n",
            "==========Epoch: 62==========\n",
            "Loss 0.04 | 0.1874s\n",
            "Loss 0.06 | 0.1386s\n",
            "==========Epoch: 63==========\n",
            "Loss 0.04 | 0.1810s\n",
            "Loss 0.06 | 0.1354s\n",
            "==========Epoch: 64==========\n",
            "Loss 0.04 | 0.1873s\n",
            "Loss 0.06 | 0.1368s\n",
            "==========Epoch: 65==========\n",
            "Loss 0.04 | 0.1812s\n",
            "Loss 0.06 | 0.1420s\n",
            "==========Epoch: 66==========\n",
            "Loss 0.04 | 0.1816s\n",
            "Loss 0.06 | 0.1393s\n",
            "==========Epoch: 67==========\n",
            "Loss 0.04 | 0.1809s\n",
            "Loss 0.06 | 0.1319s\n",
            "==========Epoch: 68==========\n",
            "Loss 0.04 | 0.1894s\n",
            "Loss 0.06 | 0.1397s\n",
            "==========Epoch: 69==========\n",
            "Loss 0.04 | 0.1840s\n",
            "Loss 0.06 | 0.1373s\n",
            "==========Epoch: 70==========\n",
            "Loss 0.04 | 0.1856s\n",
            "Loss 0.06 | 0.1352s\n",
            "==========Epoch: 71==========\n",
            "Loss 0.04 | 0.1791s\n",
            "Loss 0.06 | 0.1394s\n",
            "==========Epoch: 72==========\n",
            "Loss 0.04 | 0.1784s\n",
            "Loss 0.05 | 0.1386s\n",
            "==========Epoch: 73==========\n",
            "Loss 0.04 | 0.1906s\n",
            "Loss 0.05 | 0.1320s\n",
            "==========Epoch: 74==========\n",
            "Loss 0.04 | 0.1844s\n",
            "Loss 0.05 | 0.1346s\n",
            "==========Epoch: 75==========\n",
            "Loss 0.04 | 0.1917s\n",
            "Loss 0.05 | 0.1362s\n",
            "==========Epoch: 76==========\n",
            "Loss 0.04 | 0.1860s\n",
            "Loss 0.05 | 0.1311s\n",
            "==========Epoch: 77==========\n",
            "Loss 0.03 | 0.1842s\n",
            "Loss 0.05 | 0.1385s\n",
            "==========Epoch: 78==========\n",
            "Loss 0.03 | 0.1964s\n",
            "Loss 0.05 | 0.1411s\n",
            "==========Epoch: 79==========\n",
            "Loss 0.04 | 0.1819s\n",
            "Loss 0.05 | 0.1388s\n",
            "==========Epoch: 80==========\n",
            "Loss 0.04 | 0.2045s\n",
            "Loss 0.05 | 0.1319s\n",
            "==========Epoch: 81==========\n",
            "Loss 0.04 | 0.1933s\n",
            "Loss 0.05 | 0.1341s\n",
            "==========Epoch: 82==========\n",
            "Loss 0.03 | 0.1916s\n",
            "Loss 0.05 | 0.1472s\n",
            "==========Epoch: 83==========\n",
            "Loss 0.04 | 0.1843s\n",
            "Loss 0.05 | 0.1360s\n",
            "==========Epoch: 84==========\n",
            "Loss 0.03 | 0.1826s\n",
            "Loss 0.05 | 0.1351s\n",
            "==========Epoch: 85==========\n",
            "Loss 0.03 | 0.1851s\n",
            "Loss 0.05 | 0.1474s\n",
            "==========Epoch: 86==========\n",
            "Loss 0.03 | 0.1943s\n",
            "Loss 0.05 | 0.1359s\n",
            "==========Epoch: 87==========\n",
            "Loss 0.03 | 0.1839s\n",
            "Loss 0.04 | 0.1358s\n",
            "==========Epoch: 88==========\n",
            "Loss 0.03 | 0.1831s\n",
            "Loss 0.04 | 0.1407s\n",
            "==========Epoch: 89==========\n",
            "Loss 0.03 | 0.1878s\n",
            "Loss 0.04 | 0.1347s\n",
            "==========Epoch: 90==========\n",
            "Loss 0.03 | 0.1820s\n",
            "Loss 0.04 | 0.1360s\n",
            "==========Epoch: 91==========\n",
            "Loss 0.03 | 0.1992s\n",
            "Loss 0.04 | 0.1415s\n",
            "==========Epoch: 92==========\n",
            "Loss 0.03 | 0.1871s\n",
            "Loss 0.04 | 0.1377s\n",
            "==========Epoch: 93==========\n",
            "Loss 0.03 | 0.1901s\n",
            "Loss 0.04 | 0.1383s\n",
            "==========Epoch: 94==========\n",
            "Loss 0.03 | 0.1877s\n",
            "Loss 0.04 | 0.1348s\n",
            "==========Epoch: 95==========\n",
            "Loss 0.03 | 0.1908s\n",
            "Loss 0.04 | 0.1318s\n",
            "==========Epoch: 96==========\n",
            "Loss 0.03 | 0.1902s\n",
            "Loss 0.04 | 0.1338s\n",
            "==========Epoch: 97==========\n",
            "Loss 0.03 | 0.1901s\n",
            "Loss 0.04 | 0.1346s\n",
            "==========Epoch: 98==========\n",
            "Loss 0.03 | 0.1870s\n",
            "Loss 0.04 | 0.1319s\n",
            "==========Epoch: 99==========\n",
            "Loss 0.03 | 0.1794s\n",
            "Loss 0.04 | 0.1382s\n"
          ]
        }
      ],
      "source": [
        "for epoch in range(max_epochs):\n",
        "    print(\"=\" * 10 + f\"Epoch: {epoch}\" + \"=\" * 10)\n",
        "    epoch_loss = train_epoch(model, train_dl, opt, criterion)\n",
        "    val_loss, rmse = eval_epoch(model, test_dl, criterion)\n",
        "    losses.extend(epoch_loss)\n",
        "    val_losses.extend(val_loss)"
      ]
    },
    {
      "cell_type": "code",
      "execution_count": 62,
      "id": "aWrFCe8KNORw",
      "metadata": {
        "colab": {
          "base_uri": "https://localhost:8080/",
          "height": 268
        },
        "id": "aWrFCe8KNORw",
        "outputId": "e73a1cd3-5d05-47f3-ae67-3bd7361b1e09"
      },
      "outputs": [
        {
          "data": {
            "image/png": "[encoded data removed]",
            "text/plain": [
              "<Figure size 432x288 with 1 Axes>"
            ]
          },
          "metadata": {
            "needs_background": "light"
          },
          "output_type": "display_data"
        }
      ],
      "source": [
        "plt.plot(losses)\n",
        "plt.plot(val_losses)\n",
        "plt.show()"
      ]
    },
    {
      "cell_type": "code",
      "execution_count": 63,
      "id": "6e1Qg2LjxZUV",
      "metadata": {
        "colab": {
          "base_uri": "https://localhost:8080/"
        },
        "id": "6e1Qg2LjxZUV",
        "outputId": "8d8ffc07-9edc-46db-f418-01e54d74c741"
      },
      "outputs": [
        {
          "name": "stdout",
          "output_type": "stream",
          "text": [
            "Loss 0.04 | 0.1539s\n"
          ]
        },
        {
          "data": {
            "text/plain": [
              "0.9555803537368774"
            ]
          },
          "execution_count": 63,
          "metadata": {},
          "output_type": "execute_result"
        }
      ],
      "source": [
        "val_loss, rmse = eval_epoch(model, test_dl, criterion)\n",
        "rmse"
      ]
    }
  ],
  "metadata": {
    "accelerator": "GPU",
    "colab": {
      "collapsed_sections": [],
      "name": "AutoRec custom model.ipynb",
      "provenance": []
    },
    "gpuClass": "standard",
    "kernelspec": {
      "display_name": "Python 3.9.10 64-bit",
      "language": "python",
      "name": "python3"
    },
    "language_info": {
      "codemirror_mode": {
        "name": "ipython",
        "version": 3
      },
      "file_extension": ".py",
      "mimetype": "text/x-python",
      "name": "python",
      "nbconvert_exporter": "python",
      "pygments_lexer": "ipython3",
      "version": "3.9.10"
    },
    "vscode": {
      "interpreter": {
        "hash": "8acda9f5fdb612953975aee10444884cfb48234c8fe5ff7f806137c25a4f468b"
      }
    }
  },
  "nbformat": 4,
  "nbformat_minor": 5
}
